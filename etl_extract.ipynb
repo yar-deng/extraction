{
 "cells": [
  {
   "cell_type": "markdown",
   "id": "50b40b35",
   "metadata": {},
   "source": [
    "#### Generate a synthetic sales dataset for ETL Extract Lab\n",
    "#### Purpose: Create a realistic dataset with 100 sales records for full and incremental extraction\n",
    "#### Columns: order_id, customer_name, product, quantity, price, order_date"
   ]
  },
  {
   "cell_type": "code",
   "execution_count": 37,
   "id": "d50d2568",
   "metadata": {},
   "outputs": [],
   "source": [
    "#pip install pandas faker"
   ]
  },
  {
   "cell_type": "code",
   "execution_count": 38,
   "id": "84f51b9e",
   "metadata": {},
   "outputs": [
    {
     "name": "stdout",
     "output_type": "stream",
     "text": [
      "Dataset saved as custom_data.csv\n"
     ]
    }
   ],
   "source": [
    "import pandas as pd\n",
    "from faker import Faker\n",
    "import random\n",
    "from datetime import datetime, timedelta\n",
    "\n",
    "# Initialize Faker for fake data\n",
    "fake = Faker()\n",
    "\n",
    "# Create 120 sales records\n",
    "data = {\n",
    "    'order_id': range(1, 121),\n",
    "    'order_date': [fake.date_between(start_date='-1y', end_date='today') for _ in range(120)],\n",
    "    'product_name': [fake.word().capitalize() + ' ' + random.choice(['Laptop', 'Phone', 'Tablet']) for _ in range(120)],\n",
    "    'price': [round(random.uniform(50, 1000), 2) for _ in range(120)],\n",
    "    'customer_name': [fake.name() for _ in range(120)],\n",
    "    'last_updated': [fake.date_time_between(start_date='-1y', end_date='now') for _ in range(120)]\n",
    "}\n",
    "\n",
    "# Create a DataFrame\n",
    "df = pd.DataFrame(data)\n",
    "\n",
    "# Save to CSV in the project folder\n",
    "df.to_csv('custom_data.csv', index=False)\n",
    "print(\"Dataset saved as custom_data.csv\")"
   ]
  },
  {
   "cell_type": "code",
   "execution_count": 39,
   "id": "026e9f08",
   "metadata": {},
   "outputs": [
    {
     "data": {
      "text/html": [
       "<div>\n",
       "<style scoped>\n",
       "    .dataframe tbody tr th:only-of-type {\n",
       "        vertical-align: middle;\n",
       "    }\n",
       "\n",
       "    .dataframe tbody tr th {\n",
       "        vertical-align: top;\n",
       "    }\n",
       "\n",
       "    .dataframe thead th {\n",
       "        text-align: right;\n",
       "    }\n",
       "</style>\n",
       "<table border=\"1\" class=\"dataframe\">\n",
       "  <thead>\n",
       "    <tr style=\"text-align: right;\">\n",
       "      <th></th>\n",
       "      <th>order_id</th>\n",
       "      <th>order_date</th>\n",
       "      <th>product_name</th>\n",
       "      <th>price</th>\n",
       "      <th>customer_name</th>\n",
       "      <th>last_updated</th>\n",
       "    </tr>\n",
       "  </thead>\n",
       "  <tbody>\n",
       "    <tr>\n",
       "      <th>0</th>\n",
       "      <td>1</td>\n",
       "      <td>2024-09-23</td>\n",
       "      <td>Say Tablet</td>\n",
       "      <td>838.33</td>\n",
       "      <td>Brittany Kelly</td>\n",
       "      <td>2024-09-25 14:48:57</td>\n",
       "    </tr>\n",
       "    <tr>\n",
       "      <th>1</th>\n",
       "      <td>2</td>\n",
       "      <td>2024-11-25</td>\n",
       "      <td>Foreign Phone</td>\n",
       "      <td>576.50</td>\n",
       "      <td>Walter Nixon</td>\n",
       "      <td>2025-05-22 19:23:48</td>\n",
       "    </tr>\n",
       "    <tr>\n",
       "      <th>2</th>\n",
       "      <td>3</td>\n",
       "      <td>2024-06-29</td>\n",
       "      <td>Foreign Tablet</td>\n",
       "      <td>607.06</td>\n",
       "      <td>Michael Morrison</td>\n",
       "      <td>2025-01-02 22:33:04</td>\n",
       "    </tr>\n",
       "    <tr>\n",
       "      <th>3</th>\n",
       "      <td>4</td>\n",
       "      <td>2024-08-16</td>\n",
       "      <td>Black Tablet</td>\n",
       "      <td>822.40</td>\n",
       "      <td>Kelly Hall</td>\n",
       "      <td>2024-09-28 00:00:16</td>\n",
       "    </tr>\n",
       "    <tr>\n",
       "      <th>4</th>\n",
       "      <td>5</td>\n",
       "      <td>2025-04-28</td>\n",
       "      <td>Exactly Phone</td>\n",
       "      <td>271.35</td>\n",
       "      <td>Audrey Becker</td>\n",
       "      <td>2025-04-02 11:02:14</td>\n",
       "    </tr>\n",
       "  </tbody>\n",
       "</table>\n",
       "</div>"
      ],
      "text/plain": [
       "   order_id  order_date    product_name   price     customer_name  \\\n",
       "0         1  2024-09-23      Say Tablet  838.33    Brittany Kelly   \n",
       "1         2  2024-11-25   Foreign Phone  576.50      Walter Nixon   \n",
       "2         3  2024-06-29  Foreign Tablet  607.06  Michael Morrison   \n",
       "3         4  2024-08-16    Black Tablet  822.40        Kelly Hall   \n",
       "4         5  2025-04-28   Exactly Phone  271.35     Audrey Becker   \n",
       "\n",
       "         last_updated  \n",
       "0 2024-09-25 14:48:57  \n",
       "1 2025-05-22 19:23:48  \n",
       "2 2025-01-02 22:33:04  \n",
       "3 2024-09-28 00:00:16  \n",
       "4 2025-04-02 11:02:14  "
      ]
     },
     "execution_count": 39,
     "metadata": {},
     "output_type": "execute_result"
    }
   ],
   "source": [
    "df.head()"
   ]
  },
  {
   "cell_type": "markdown",
   "id": "19ba8aa3",
   "metadata": {},
   "source": [
    "#### ETL Extraction Lab\n",
    "**Name**: Jane Doe  \n",
    "**Student ID**: 20250123  \n",
    "\n",
    "This notebook demonstrates Full and Incremental Extraction using a sales dataset.\n",
    "\n",
    "#### Step 1: Import Libraries\n",
    "We import `pandas` to handle the CSV file and `datetime` to work with dates for incremental extraction.\n",
    "\n",
    "#### Step 2: Load the Dataset\n",
    "We load `custom_data.csv` into a pandas DataFrame to inspect its contents."
   ]
  },
  {
   "cell_type": "code",
   "execution_count": 40,
   "id": "7a9499a4",
   "metadata": {},
   "outputs": [
    {
     "name": "stdout",
     "output_type": "stream",
     "text": [
      "Full Extraction - First 5 rows:\n",
      "   order_id  order_date    product_name   price     customer_name  \\\n",
      "0         1  2024-09-23      Say Tablet  838.33    Brittany Kelly   \n",
      "1         2  2024-11-25   Foreign Phone  576.50      Walter Nixon   \n",
      "2         3  2024-06-29  Foreign Tablet  607.06  Michael Morrison   \n",
      "3         4  2024-08-16    Black Tablet  822.40        Kelly Hall   \n",
      "4         5  2025-04-28   Exactly Phone  271.35     Audrey Becker   \n",
      "\n",
      "          last_updated  \n",
      "0  2024-09-25 14:48:57  \n",
      "1  2025-05-22 19:23:48  \n",
      "2  2025-01-02 22:33:04  \n",
      "3  2024-09-28 00:00:16  \n",
      "4  2025-04-02 11:02:14  \n"
     ]
    }
   ],
   "source": [
    "# Read the entire dataset\n",
    "df_full = pd.read_csv('custom_data.csv')\n",
    "print(\"Full Extraction - First 5 rows:\")\n",
    "print(df_full.head())"
   ]
  },
  {
   "cell_type": "markdown",
   "id": "a316c804",
   "metadata": {},
   "source": [
    "#### Step 3: Full Extraction\n",
    "Full Extraction copies all data from the source (`custom_data.csv`) to a new file (`full_extract.csv`)."
   ]
  },
  {
   "cell_type": "code",
   "execution_count": 44,
   "id": "a840c963",
   "metadata": {},
   "outputs": [
    {
     "name": "stdout",
     "output_type": "stream",
     "text": [
      "Full Extraction completed. Saved to full_extract.csv\n"
     ]
    }
   ],
   "source": [
    "# Perform Full Extraction\n",
    "df.to_csv(\"full_extract.csv\", index=False)\n",
    "print(\"Full Extraction completed. Saved to full_extract.csv\")"
   ]
  },
  {
   "cell_type": "markdown",
   "id": "8a9092fd",
   "metadata": {},
   "source": [
    "#### Step 4: Incremental Extraction\n",
    "Incremental Extraction only extracts records added or updated since the last extraction. We use `last_extraction.txt` to store the last extracted date and extract records with a later `order_date`."
   ]
  },
  {
   "cell_type": "code",
   "execution_count": 43,
   "id": "54473967",
   "metadata": {},
   "outputs": [
    {
     "name": "stdout",
     "output_type": "stream",
     "text": [
      "Incremental Extraction - New/Updated rows:\n",
      "Empty DataFrame\n",
      "Columns: [order_id, order_date, product_name, price, customer_name, last_updated]\n",
      "Index: []\n"
     ]
    }
   ],
   "source": [
    "from datetime import datetime\n",
    "import pandas as pd\n",
    "\n",
    "# Read the last extraction timestamp\n",
    "try:\n",
    "    with open('last_extraction.txt', 'r') as file:\n",
    "        timestamp_str = file.read().strip()\n",
    "        if timestamp_str:  # Check if the string is not empty\n",
    "            last_extract_time = datetime.fromisoformat(timestamp_str)\n",
    "        else:\n",
    "            last_extract_time = datetime(2000, 1, 1)  # Default if file is empty\n",
    "except FileNotFoundError:\n",
    "    last_extract_time = datetime(2000, 1, 1)  # Default if file doesn't exist\n",
    "\n",
    "# Convert last_updated column to datetime\n",
    "df_full = pd.read_csv('custom_data.csv')  # Ensure dataset is loaded\n",
    "df_full['last_updated'] = pd.to_datetime(df_full['last_updated'])\n",
    "\n",
    "# Filter for new or updated records\n",
    "df_incremental = df_full[df_full['last_updated'] > last_extract_time]\n",
    "print(\"Incremental Extraction - New/Updated rows:\")\n",
    "print(df_incremental.head())\n",
    "\n",
    "# Update last_extraction.txt with current timestamp\n",
    "with open('last_extraction.txt', 'w') as file:\n",
    "    file.write(datetime.now().isoformat())"
   ]
  }
 ],
 "metadata": {
  "kernelspec": {
   "display_name": "base",
   "language": "python",
   "name": "python3"
  },
  "language_info": {
   "codemirror_mode": {
    "name": "ipython",
    "version": 3
   },
   "file_extension": ".py",
   "mimetype": "text/x-python",
   "name": "python",
   "nbconvert_exporter": "python",
   "pygments_lexer": "ipython3",
   "version": "3.11.4"
  }
 },
 "nbformat": 4,
 "nbformat_minor": 5
}
